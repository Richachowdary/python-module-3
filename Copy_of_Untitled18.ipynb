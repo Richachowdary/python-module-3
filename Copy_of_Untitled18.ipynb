{
  "nbformat": 4,
  "nbformat_minor": 0,
  "metadata": {
    "colab": {
      "name": "Copy of Untitled18.ipynb",
      "provenance": [],
      "authorship_tag": "ABX9TyMIn9l+qCnFEhBr69q2jKRM",
      "include_colab_link": true
    },
    "kernelspec": {
      "name": "python3",
      "display_name": "Python 3"
    }
  },
  "cells": [
    {
      "cell_type": "markdown",
      "metadata": {
        "id": "view-in-github",
        "colab_type": "text"
      },
      "source": [
        "<a href=\"https://colab.research.google.com/github/Richachowdary/python-module-3/blob/master/Copy_of_Untitled18.ipynb\" target=\"_parent\"><img src=\"https://colab.research.google.com/assets/colab-badge.svg\" alt=\"Open In Colab\"/></a>"
      ]
    },
    {
      "cell_type": "code",
      "metadata": {
        "id": "oaoWhHKqeOKc",
        "colab_type": "code",
        "colab": {}
      },
      "source": [
        "Question 1"
      ],
      "execution_count": null,
      "outputs": []
    },
    {
      "cell_type": "code",
      "metadata": {
        "id": "acoeHUW9eQVx",
        "colab_type": "code",
        "colab": {
          "base_uri": "https://localhost:8080/",
          "height": 34
        },
        "outputId": "cd6c84e5-3f1e-48a5-d460-1ec5f484cce2"
      },
      "source": [
        " a=(\"tuple\", False, 3.2, 1)\n",
        "print(a)"
      ],
      "execution_count": null,
      "outputs": [
        {
          "output_type": "stream",
          "text": [
            "('tuple', False, 3.2, 1)\n"
          ],
          "name": "stdout"
        }
      ]
    },
    {
      "cell_type": "code",
      "metadata": {
        "id": "IWtWvu-eedmQ",
        "colab_type": "code",
        "colab": {}
      },
      "source": [
        "Question 2"
      ],
      "execution_count": null,
      "outputs": []
    },
    {
      "cell_type": "code",
      "metadata": {
        "id": "o0ODg3Jaeemm",
        "colab_type": "code",
        "colab": {
          "base_uri": "https://localhost:8080/",
          "height": 34
        },
        "outputId": "0fd1e675-b57a-4189-b775-aa60ac01b5bd"
      },
      "source": [
        " b=5, 10, 15, 20, 25\n",
        "print(b)"
      ],
      "execution_count": null,
      "outputs": [
        {
          "output_type": "stream",
          "text": [
            "(5, 10, 15, 20, 25)\n"
          ],
          "name": "stdout"
        }
      ]
    },
    {
      "cell_type": "code",
      "metadata": {
        "id": "aaODw0U9eiaI",
        "colab_type": "code",
        "colab": {}
      },
      "source": [
        "Question 3"
      ],
      "execution_count": null,
      "outputs": []
    },
    {
      "cell_type": "code",
      "metadata": {
        "id": "EgjQFxrjeji6",
        "colab_type": "code",
        "colab": {
          "base_uri": "https://localhost:8080/",
          "height": 34
        },
        "outputId": "dc4d09d1-d0c9-4081-ef71-c0f4d29f01cd"
      },
      "source": [
        " t=('H', 'a', 'n', 'n', 'a', 'h')\n",
        "c=''.join(t)\n",
        "print(c)"
      ],
      "execution_count": null,
      "outputs": [
        {
          "output_type": "stream",
          "text": [
            "Hannah\n"
          ],
          "name": "stdout"
        }
      ]
    },
    {
      "cell_type": "code",
      "metadata": {
        "id": "9i4lKeQJemcZ",
        "colab_type": "code",
        "colab": {}
      },
      "source": [
        "Question 4"
      ],
      "execution_count": null,
      "outputs": []
    },
    {
      "cell_type": "code",
      "metadata": {
        "id": "9HvsjhpUeplm",
        "colab_type": "code",
        "colab": {
          "base_uri": "https://localhost:8080/",
          "height": 54
        },
        "outputId": "a8f9afab-f6cd-48a3-a2ce-6e5844465be6"
      },
      "source": [
        " t=tuple(\"HELLO WORLD\")\n",
        "print(t)"
      ],
      "execution_count": null,
      "outputs": [
        {
          "output_type": "stream",
          "text": [
            "('H', 'E', 'L', 'L', 'O', ' ', 'W', 'O', 'R', 'L', 'D')\n"
          ],
          "name": "stdout"
        }
      ]
    },
    {
      "cell_type": "code",
      "metadata": {
        "id": "SWPdEMQuet0P",
        "colab_type": "code",
        "colab": {}
      },
      "source": [
        "Question 5"
      ],
      "execution_count": null,
      "outputs": []
    },
    {
      "cell_type": "code",
      "metadata": {
        "id": "4dphM18heu1t",
        "colab_type": "code",
        "colab": {
          "base_uri": "https://localhost:8080/",
          "height": 71
        },
        "outputId": "695c8272-e147-4242-be29-494b89a9837b"
      },
      "source": [
        " t=tuple(\"HELLO WOORLD\")\n",
        "print(t)\n",
        "print(\"The length is:\", len(t))"
      ],
      "execution_count": null,
      "outputs": [
        {
          "output_type": "stream",
          "text": [
            "('H', 'E', 'L', 'L', 'O', ' ', 'W', 'O', 'O', 'R', 'L', 'D')\n",
            "The length is: 12\n"
          ],
          "name": "stdout"
        }
      ]
    },
    {
      "cell_type": "code",
      "metadata": {
        "id": "sicVdDCqe9dE",
        "colab_type": "code",
        "colab": {}
      },
      "source": [
        "Question 6"
      ],
      "execution_count": null,
      "outputs": []
    },
    {
      "cell_type": "code",
      "metadata": {
        "id": "JCj6B2gHfAUa",
        "colab_type": "code",
        "colab": {
          "base_uri": "https://localhost:8080/",
          "height": 88
        },
        "outputId": "111060c8-582d-4f44-dc3d-43568e26cc17"
      },
      "source": [
        " tup1=('a', 'c', 'b')\n",
        "tup2=(1, 2, 3)\n",
        "print(\"The original key tuple is :\" ,str(tup1)) \n",
        "print(\"The original value tuple is :\" ,str(tup2)) \n",
        "res=dict(zip(tup1,tup2))\n",
        "print(\"Dictionary constructed from tuples:\" ,str(res))"
      ],
      "execution_count": null,
      "outputs": [
        {
          "output_type": "stream",
          "text": [
            "The original key tuple is : ('a', 'c', 'b')\n",
            "The original value tuple is : (1, 2, 3)\n",
            "Dictionary constructed from tuples: {'a': 1, 'c': 2, 'b': 3}\n"
          ],
          "name": "stdout"
        }
      ]
    },
    {
      "cell_type": "code",
      "metadata": {
        "id": "rvpHi3B6fGIV",
        "colab_type": "code",
        "colab": {}
      },
      "source": [
        "Question 7"
      ],
      "execution_count": null,
      "outputs": []
    },
    {
      "cell_type": "code",
      "metadata": {
        "id": "htAia_ylfH7G",
        "colab_type": "code",
        "colab": {
          "base_uri": "https://localhost:8080/",
          "height": 71
        },
        "outputId": "668068a9-3b1b-4d3b-f5ff-b9ad042cbd0f"
      },
      "source": [
        " a=(\"python\")\n",
        "print(\"Before reverse:\", a)\n",
        "t=reversed(a)\n",
        "print(\"after reverse\", tuple(t))"
      ],
      "execution_count": null,
      "outputs": [
        {
          "output_type": "stream",
          "text": [
            "Before reverse: python\n",
            "after reverse ('n', 'o', 'h', 't', 'y', 'p')\n"
          ],
          "name": "stdout"
        }
      ]
    },
    {
      "cell_type": "code",
      "metadata": {
        "id": "PuJyGgGkfM1x",
        "colab_type": "code",
        "colab": {}
      },
      "source": [
        "Question 8"
      ],
      "execution_count": null,
      "outputs": []
    },
    {
      "cell_type": "code",
      "metadata": {
        "id": "Lw5whg_ZfOZA",
        "colab_type": "code",
        "colab": {
          "base_uri": "https://localhost:8080/",
          "height": 54
        },
        "outputId": "86051b6c-160b-4771-88df-6c1961c19b58"
      },
      "source": [
        " list1=[(\"Nakul\",93), (\"Shivansh\",45), (\"Samved\",65), (\"Yash\",88), (\"Vidit\",70), (\"Pradeep\",52)] \n",
        "a=dict() \n",
        "for i,j in list1: \n",
        "    a.setdefault(i, []).append(j) \n",
        "print(a)"
      ],
      "execution_count": null,
      "outputs": [
        {
          "output_type": "stream",
          "text": [
            "{'Nakul': [93], 'Shivansh': [45], 'Samved': [65], 'Yash': [88], 'Vidit': [70], 'Pradeep': [52]}\n"
          ],
          "name": "stdout"
        }
      ]
    },
    {
      "cell_type": "code",
      "metadata": {
        "id": "waHi4dmxfb0-",
        "colab_type": "code",
        "colab": {}
      },
      "source": [
        "Question 9"
      ],
      "execution_count": null,
      "outputs": []
    },
    {
      "cell_type": "code",
      "metadata": {
        "id": "kAzRqJzgfdBx",
        "colab_type": "code",
        "colab": {
          "base_uri": "https://localhost:8080/",
          "height": 71
        },
        "outputId": "8cdc038e-7dde-43a0-ba75-d7776b7d32f6"
      },
      "source": [
        " list1=[5, 10, 7, 4, 15, 3]\n",
        "print(\"original list:\", list1)\n",
        "t=tuple(list1)\n",
        "print(\"convetred to tuple:\", t)"
      ],
      "execution_count": null,
      "outputs": [
        {
          "output_type": "stream",
          "text": [
            "original list: [5, 10, 7, 4, 15, 3]\n",
            "convetred to tuple: (5, 10, 7, 4, 15, 3)\n"
          ],
          "name": "stdout"
        }
      ]
    }
  ]
}