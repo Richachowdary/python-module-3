{
  "nbformat": 4,
  "nbformat_minor": 0,
  "metadata": {
    "colab": {
      "name": "Copy of Untitled12.ipynb",
      "provenance": [],
      "authorship_tag": "ABX9TyMuthilqF+29rkhDqStDFUy",
      "include_colab_link": true
    },
    "kernelspec": {
      "name": "python3",
      "display_name": "Python 3"
    }
  },
  "cells": [
    {
      "cell_type": "markdown",
      "metadata": {
        "id": "view-in-github",
        "colab_type": "text"
      },
      "source": [
        "<a href=\"https://colab.research.google.com/github/Richachowdary/python-module-3/blob/master/Copy_of_Untitled12.ipynb\" target=\"_parent\"><img src=\"https://colab.research.google.com/assets/colab-badge.svg\" alt=\"Open In Colab\"/></a>"
      ]
    },
    {
      "cell_type": "code",
      "metadata": {
        "id": "V_rL57YowyPx",
        "colab_type": "code",
        "colab": {}
      },
      "source": [
        "Assignment 2"
      ],
      "execution_count": null,
      "outputs": []
    },
    {
      "cell_type": "code",
      "metadata": {
        "id": "mT1y7Wzbw2KY",
        "colab_type": "code",
        "colab": {}
      },
      "source": [
        "Question 1"
      ],
      "execution_count": null,
      "outputs": []
    },
    {
      "cell_type": "code",
      "metadata": {
        "id": "CamSKRHIw3OC",
        "colab_type": "code",
        "colab": {
          "base_uri": "https://localhost:8080/",
          "height": 51
        },
        "outputId": "9e7f89a1-39a6-4547-c6a4-f2ef8ffe48fd"
      },
      "source": [
        " a=input(\"Enter a string\")\n",
        "n=0\n",
        "for s in a:\n",
        "      n=n+1\n",
        "print(\"Length of the input string is\", n)"
      ],
      "execution_count": null,
      "outputs": [
        {
          "output_type": "stream",
          "text": [
            "Enter a stringRicha\n",
            "Length of the input string is 5\n"
          ],
          "name": "stdout"
        }
      ]
    },
    {
      "cell_type": "code",
      "metadata": {
        "id": "PtNTSv99xJ3U",
        "colab_type": "code",
        "colab": {}
      },
      "source": [
        "Question 2"
      ],
      "execution_count": null,
      "outputs": []
    },
    {
      "cell_type": "code",
      "metadata": {
        "id": "mPFbdK8lxLEj",
        "colab_type": "code",
        "colab": {
          "base_uri": "https://localhost:8080/",
          "height": 71
        },
        "outputId": "cee605e7-1c38-4c4d-e600-deed0b5d1a37"
      },
      "source": [
        " a=input(\"Enter a string\")\n",
        "res={i : a.count(i) for i in set(a)}\n",
        "print (\"The count of all characters is \" +str(res))"
      ],
      "execution_count": null,
      "outputs": [
        {
          "output_type": "stream",
          "text": [
            "Enter a stringRicha Chowdary\n",
            "The count of all characters is {'C': 1, 'h': 2, 'c': 1, 'd': 1, ' ': 1, 'o': 1, 'y': 1, 'a': 2, 'r': 1, 'R': 1, 'i': 1, 'w': 1}\n"
          ],
          "name": "stdout"
        }
      ]
    },
    {
      "cell_type": "code",
      "metadata": {
        "id": "B5AryH58xgZA",
        "colab_type": "code",
        "colab": {}
      },
      "source": [
        "Question 3"
      ],
      "execution_count": null,
      "outputs": []
    },
    {
      "cell_type": "code",
      "metadata": {
        "id": "an9kGfPkxiTt",
        "colab_type": "code",
        "colab": {
          "base_uri": "https://localhost:8080/",
          "height": 68
        },
        "outputId": "140a032e-cf65-470b-b59e-0893ea632896"
      },
      "source": [
        " a=input(\"Enter the first string\")\n",
        "b=input(\"Enter the second string\")\n",
        "x=a[0:2]\n",
        "a=a.replace(a[0:2],b[0:2])\n",
        "b=b.replace(b[0:2],x)\n",
        "print(a,b)"
      ],
      "execution_count": null,
      "outputs": [
        {
          "output_type": "stream",
          "text": [
            "Enter the first stringRicha\n",
            "Enter the second stringChowdary\n",
            "Chcha Riowdary\n"
          ],
          "name": "stdout"
        }
      ]
    },
    {
      "cell_type": "code",
      "metadata": {
        "id": "xeDzGct3x1Dn",
        "colab_type": "code",
        "colab": {}
      },
      "source": [
        "Question 4"
      ],
      "execution_count": null,
      "outputs": []
    },
    {
      "cell_type": "code",
      "metadata": {
        "id": "cUjHF3OOx3NU",
        "colab_type": "code",
        "colab": {
          "base_uri": "https://localhost:8080/",
          "height": 68
        },
        "outputId": "42890ddc-f89f-4135-e400-d972d6dba7d8"
      },
      "source": [
        " a=input(\"Enter a string\")\n",
        "print(\"String in upper case is \", a.upper())\n",
        "print(\"String in lower case is \", a.lower())"
      ],
      "execution_count": null,
      "outputs": [
        {
          "output_type": "stream",
          "text": [
            "Enter a stringRicha\n",
            "String in upper case is  RICHA\n",
            "String in lower case is  richa\n"
          ],
          "name": "stdout"
        }
      ]
    },
    {
      "cell_type": "code",
      "metadata": {
        "id": "777Pi48xx-zu",
        "colab_type": "code",
        "colab": {}
      },
      "source": [
        "Question 5"
      ],
      "execution_count": null,
      "outputs": []
    },
    {
      "cell_type": "code",
      "metadata": {
        "id": "VlnI4qh7yHnk",
        "colab_type": "code",
        "colab": {
          "base_uri": "https://localhost:8080/",
          "height": 34
        },
        "outputId": "58b9d0e0-74b8-4480-8ada-a2556dcf5a56"
      },
      "source": [
        " str1 = 'During the 18th century, however, they did not write in the living language of the Servian people.'\n",
        "print(str1.count(\"the\"))"
      ],
      "execution_count": null,
      "outputs": [
        {
          "output_type": "stream",
          "text": [
            "4\n"
          ],
          "name": "stdout"
        }
      ]
    }
  ]
}