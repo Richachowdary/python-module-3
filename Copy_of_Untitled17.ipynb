{
  "nbformat": 4,
  "nbformat_minor": 0,
  "metadata": {
    "colab": {
      "name": "Copy of Untitled17.ipynb",
      "provenance": [],
      "authorship_tag": "ABX9TyMmwOIo63fYIvkrRbZZgIlq",
      "include_colab_link": true
    },
    "kernelspec": {
      "name": "python3",
      "display_name": "Python 3"
    }
  },
  "cells": [
    {
      "cell_type": "markdown",
      "metadata": {
        "id": "view-in-github",
        "colab_type": "text"
      },
      "source": [
        "<a href=\"https://colab.research.google.com/github/Richachowdary/python-module-3/blob/master/Copy_of_Untitled17.ipynb\" target=\"_parent\"><img src=\"https://colab.research.google.com/assets/colab-badge.svg\" alt=\"Open In Colab\"/></a>"
      ]
    },
    {
      "cell_type": "code",
      "metadata": {
        "id": "5laTNgN3xa1O",
        "colab_type": "code",
        "colab": {}
      },
      "source": [
        "Question 1"
      ],
      "execution_count": null,
      "outputs": []
    },
    {
      "cell_type": "code",
      "metadata": {
        "id": "n-5cuphixeF-",
        "colab_type": "code",
        "colab": {
          "base_uri": "https://localhost:8080/",
          "height": 34
        },
        "outputId": "6aa833fc-df6f-49c4-9cb9-07e0c593666c"
      },
      "source": [
        " list1=[1,2,3,4,5]\n",
        "n=0\n",
        "for i in list1:\n",
        "        n+=i\n",
        "print(\"The sum is:\", n)"
      ],
      "execution_count": null,
      "outputs": [
        {
          "output_type": "stream",
          "text": [
            "The sum is: 15\n"
          ],
          "name": "stdout"
        }
      ]
    },
    {
      "cell_type": "code",
      "metadata": {
        "id": "eGZ2e0xJxqG-",
        "colab_type": "code",
        "colab": {}
      },
      "source": [
        "Question 2"
      ],
      "execution_count": null,
      "outputs": []
    },
    {
      "cell_type": "code",
      "metadata": {
        "id": "XSWI0XYUxrZH",
        "colab_type": "code",
        "colab": {
          "base_uri": "https://localhost:8080/",
          "height": 34
        },
        "outputId": "2fc722cf-fe11-43e6-f3b8-88f74fc6d767"
      },
      "source": [
        " a=5\n",
        "n=[[] for _ in range(a)]\n",
        "print(n)"
      ],
      "execution_count": null,
      "outputs": [
        {
          "output_type": "stream",
          "text": [
            "[[], [], [], [], []]\n"
          ],
          "name": "stdout"
        }
      ]
    },
    {
      "cell_type": "code",
      "metadata": {
        "id": "C-iTkmZzxuzR",
        "colab_type": "code",
        "colab": {}
      },
      "source": [
        "Question 3"
      ],
      "execution_count": null,
      "outputs": []
    },
    {
      "cell_type": "code",
      "metadata": {
        "id": "99ub15kjxwBt",
        "colab_type": "code",
        "colab": {
          "base_uri": "https://localhost:8080/",
          "height": 34
        },
        "outputId": "1c8f3277-400d-443d-ee62-3445881ca587"
      },
      "source": [
        " n={'Lucifer':5,'sherlock':4,'Dark':3}\n",
        "print(list(n)[0])"
      ],
      "execution_count": null,
      "outputs": [
        {
          "output_type": "stream",
          "text": [
            "Lucifer\n"
          ],
          "name": "stdout"
        }
      ]
    },
    {
      "cell_type": "code",
      "metadata": {
        "id": "5Epgvz2qx1Ge",
        "colab_type": "code",
        "colab": {}
      },
      "source": [
        "Question 4"
      ],
      "execution_count": null,
      "outputs": []
    },
    {
      "cell_type": "code",
      "metadata": {
        "id": "DNFJ7aNOx20Q",
        "colab_type": "code",
        "colab": {
          "base_uri": "https://localhost:8080/",
          "height": 68
        },
        "outputId": "f041dd7b-bd23-438b-8610-d083f81d02a6"
      },
      "source": [
        " n={'Lucifer':5,'sherlock':4,'Dark':3}\n",
        "for i, j in n.items():\n",
        "     print(i, 'has', n[i],'seasons')"
      ],
      "execution_count": null,
      "outputs": [
        {
          "output_type": "stream",
          "text": [
            "Lucifer has 5 seasons\n",
            "sherlock has 4 seasons\n",
            "Dark has 3 seasons\n"
          ],
          "name": "stdout"
        }
      ]
    },
    {
      "cell_type": "code",
      "metadata": {
        "id": "Rdz2RqnZx7W5",
        "colab_type": "code",
        "colab": {}
      },
      "source": [
        "Question 5"
      ],
      "execution_count": null,
      "outputs": []
    },
    {
      "cell_type": "code",
      "metadata": {
        "id": "zw2kMmDxx8y8",
        "colab_type": "code",
        "colab": {
          "base_uri": "https://localhost:8080/",
          "height": 34
        },
        "outputId": "57527de7-5394-4377-c550-1c15c616ceb5"
      },
      "source": [
        " n={'Puri':50,'Idly':40,'Dosa':50}\n",
        "print(\"The sum of the all items:\",sum(n.values()))"
      ],
      "execution_count": null,
      "outputs": [
        {
          "output_type": "stream",
          "text": [
            "The sum of the all items: 140\n"
          ],
          "name": "stdout"
        }
      ]
    },
    {
      "cell_type": "code",
      "metadata": {
        "id": "IB_y69JMyGGr",
        "colab_type": "code",
        "colab": {}
      },
      "source": [
        "Question 6"
      ],
      "execution_count": null,
      "outputs": []
    },
    {
      "cell_type": "code",
      "metadata": {
        "id": "cMF3n4WPyHgP",
        "colab_type": "code",
        "colab": {
          "base_uri": "https://localhost:8080/",
          "height": 54
        },
        "outputId": "bc7426ba-a21d-45c9-e0cb-eeef19d02c69"
      },
      "source": [
        " dic1={1:10, 2:20}\n",
        "dic2={3:30, 4:40}\n",
        "dic3={5:50,6:60}\n",
        "dic4={}\n",
        "for i in (dic1, dic2, dic3): dic4.update(i)\n",
        "print(dic4)"
      ],
      "execution_count": null,
      "outputs": [
        {
          "output_type": "stream",
          "text": [
            "{1: 10, 2: 20, 3: 30, 4: 40, 5: 50, 6: 60}\n"
          ],
          "name": "stdout"
        }
      ]
    }
  ]
}